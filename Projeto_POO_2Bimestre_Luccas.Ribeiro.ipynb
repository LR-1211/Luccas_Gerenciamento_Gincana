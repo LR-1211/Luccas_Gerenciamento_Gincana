{
 "cells": [
  {
   "cell_type": "markdown",
   "id": "fcbe0b0b",
   "metadata": {},
   "source": [
    "# 📘 Projeto de Programação Orientada a Objetos – 2º Bimestre\n",
    "\n",
    "**Nome do Aluno:**                      \n",
    "\n",
    "**Turma:**\n",
    "\n",
    "**Tema Escolhido:**"
   ]
  },
  {
   "cell_type": "markdown",
   "id": "47e697ce",
   "metadata": {},
   "source": [
    "Lembre-se esse projeto deve ser personalizado, todas as classe e metodos devem ter uma referencia ao seu nome, exemplo:\n",
    "\n",
    "class Carro_Fabio:\n",
    "\n",
    "    def __init__(self, tipo, cor, rodas):\n",
    "        self.tipo = tipo\n",
    "        self.cor = cor\n",
    "        self.rodas = rodas\n",
    "        \n",
    "    def alterar_cor_Fabio(self, nova_cor):\n",
    "        self.cor = nova_cor\n",
    "        return self.cor\n",
    "    "
   ]
  },
  {
   "cell_type": "markdown",
   "id": "bf0b9458",
   "metadata": {},
   "source": [
    "## PARTE 1 – Classe Principal e Objetos\n",
    "\n",
    "**Tarefas:**\n",
    "- Definir e criar a classe principal com pelo menos 3 atributos.\n",
    "- Implementar o método construtor (`__init__`).\n",
    "- Criar pelo menos 2 objetos da classe principal.\n",
    "- Implementar um método de exibição de dados.\n",
    "\n",
    "**Código:**"
   ]
  },
  {
   "cell_type": "code",
   "execution_count": 13,
   "id": "5721fa89",
   "metadata": {},
   "outputs": [
    {
     "name": "stdout",
     "output_type": "stream",
     "text": [
      "Nome: Os Invencíveis\n",
      "Responsável: Luccas\n",
      "E-mail: luccas@gmail.com\n",
      "Pontuação: 0\n",
      "Integrantes: []\n",
      "-------------\n",
      "Nome: Guerreiros da Noite\n",
      "Responsável: Pedro\n",
      "E-mail: pedro@gmail.com\n",
      "Pontuação: 0\n",
      "Integrantes: []\n"
     ]
    }
   ],
   "source": [
    "class Equipe:\n",
    "    def __init__(self, nome, responsavel, email):\n",
    "        self.nome = nome\n",
    "        self.responsavel = responsavel\n",
    "        self.email = email\n",
    "        self.integrantes = []\n",
    "        self.pontuacao = 0\n",
    "\n",
    "    def exibir_dados(self):\n",
    "        print(f\"Nome: {self.nome}\")\n",
    "        print(f\"Responsável: {self.responsavel}\")\n",
    "        print(f\"E-mail: {self.email}\")\n",
    "        print(f\"Pontuação: {self.pontuacao}\")\n",
    "        print(f\"Integrantes: {self.integrantes}\")\n",
    "\n",
    "equipe1 = Equipe(\"Os Invencíveis\", \"Luccas\", \"luccas@gmail.com\")\n",
    "equipe2 = Equipe(\"Guerreiros da Noite\", \"Pedro\", \"pedro@gmail.com\")\n",
    "\n",
    "equipe1.exibir_dados()\n",
    "print(\"-------------\")\n",
    "equipe2.exibir_dados()"
   ]
  },
  {
   "cell_type": "markdown",
   "id": "f2cf3375",
   "metadata": {},
   "source": [
    "## PARTE 2 – Métodos e Herança\n",
    "\n",
    "**Tarefas:**\n",
    "- Criar pelo menos 2 métodos de ação para a classe principal.\n",
    "- Criar uma subclasse herdando da classe principal.\n",
    "- Adicionar pelo menos 1 novo atributo e 1 novo método exclusivo na subclasse.\n",
    "- Utilizar `super()` no construtor da subclasse.\n",
    "\n",
    "**Código:**"
   ]
  },
  {
   "cell_type": "code",
   "execution_count": 17,
   "id": "5f456eb1",
   "metadata": {},
   "outputs": [
    {
     "name": "stdout",
     "output_type": "stream",
     "text": [
      "Arthur adicionado(a) à equipe Feras da Quadra.\n",
      "Thales adicionado(a) à equipe Feras da Quadra.\n",
      "Feras da Quadra ganhou 10 pontos! Total: 10\n",
      "A equipe Feras da Quadra está competindo na modalidade Basquete!\n",
      "-------------\n",
      "Nome: Feras da Quadra\n",
      "Responsável: Leo\n",
      "E-mail: leo@gmail.com\n",
      "Pontuação: 10\n",
      "Integrantes: Arthur, Thales\n"
     ]
    }
   ],
   "source": [
    "# Classe principal\n",
    "class Equipe:\n",
    "    def __init__(self, nome, responsavel, email):\n",
    "        self.nome = nome\n",
    "        self.responsavel = responsavel\n",
    "        self.email = email\n",
    "        self.integrantes = []\n",
    "        self.pontuacao = 0\n",
    "\n",
    "    def adicionar_integrante(self, nome_integrante):\n",
    "        self.integrantes.append(nome_integrante)\n",
    "        print(f\"{nome_integrante} adicionado(a) à equipe {self.nome}.\")\n",
    "\n",
    "    def pontuar(self, pontos):\n",
    "        self.pontuacao += pontos\n",
    "        print(f\"{self.nome} ganhou {pontos} pontos! Total: {self.pontuacao}\")\n",
    "\n",
    "    def exibir_dados(self):\n",
    "        print(f\"Nome: {self.nome}\")\n",
    "        print(f\"Responsável: {self.responsavel}\")\n",
    "        print(f\"E-mail: {self.email}\")\n",
    "        print(f\"Pontuação: {self.pontuacao}\")\n",
    "        print(f\"Integrantes: {', '.join(self.integrantes)}\")\n",
    "\n",
    "class EquipeEsportiva(Equipe):\n",
    "    def __init__(self, nome, responsavel, email, modalidade):\n",
    "        super().__init__(nome, responsavel, email) \n",
    "        self.modalidade = modalidade\n",
    "\n",
    "    def realizar_prova(self):\n",
    "        print(f\"A equipe {self.nome} está competindo na modalidade {self.modalidade}!\")\n",
    "\n",
    "equipe1 = EquipeEsportiva(\"Feras da Quadra\", \"Leo\", \"leo@gmail.com\", \"Basquete\")\n",
    "equipe1.adicionar_integrante(\"Arthur\")\n",
    "equipe1.adicionar_integrante(\"Thales\")\n",
    "equipe1.pontuar(10)\n",
    "equipe1.realizar_prova()\n",
    "print(\"-------------\")\n",
    "equipe1.exibir_dados()"
   ]
  },
  {
   "cell_type": "markdown",
   "id": "3e0a77b0",
   "metadata": {},
   "source": [
    "## PARTE 3 – Encapsulamento e Abstração\n",
    "\n",
    "**Tarefas:**\n",
    "- Tornar pelo menos 1 atributo da classe principal privado (`__atributo`).\n",
    "- Criar métodos `get` e `set` para o atributo privado.\n",
    "- Implementar um método que contenha lógica interna (ex: cálculo, verificação).\n",
    "\n",
    "**Código:**"
   ]
  },
  {
   "cell_type": "code",
   "execution_count": 18,
   "id": "0bdb445e",
   "metadata": {},
   "outputs": [
    {
     "name": "stdout",
     "output_type": "stream",
     "text": [
      "Estrela da Manhã ganhou 10 pontos! Total: 10\n",
      "Pontuação atual: 10\n",
      "Pontuação atualizada: 30\n",
      "Erro: A pontuação não pode ser negativa.\n"
     ]
    }
   ],
   "source": [
    "class Equipe:\n",
    "    def __init__(self, nome, responsavel, email):\n",
    "        self.nome = nome\n",
    "        self.responsavel = responsavel\n",
    "        self.email = email\n",
    "        self.integrantes = []\n",
    "        self.__pontuacao = 0 \n",
    "\n",
    "    \n",
    "    def get_pontuacao(self):\n",
    "        return self.__pontuacao\n",
    "\n",
    "\n",
    "    def set_pontuacao(self, pontos):\n",
    "        if pontos >= 0:\n",
    "            self.__pontuacao = pontos\n",
    "        else:\n",
    "            print(\"Erro: A pontuação não pode ser negativa.\")\n",
    "\n",
    " \n",
    "    def adicionar_pontuacao(self, pontos):\n",
    "        if pontos > 0:\n",
    "            self.__pontuacao += pontos\n",
    "            print(f\"{self.nome} ganhou {pontos} pontos! Total: {self.__pontuacao}\")\n",
    "        else:\n",
    "            print(\"Erro: Informe uma pontuação positiva.\")\n",
    "\n",
    "    def exibir_dados(self):\n",
    "        print(f\"Nome: {self.nome}\")\n",
    "        print(f\"Responsável: {self.responsavel}\")\n",
    "        print(f\"E-mail: {self.email}\")\n",
    "        print(f\"Pontuação: {self.__pontuacao}\")\n",
    "        print(f\"Integrantes: {', '.join(self.integrantes)}\")\n",
    "\n",
    "# Exemplo de uso\n",
    "equipe1 = Equipe(\"Estrela da Manhã\", \"Júlia\", \"julia@email.com\")\n",
    "equipe1.adicionar_pontuacao(10)\n",
    "print(\"Pontuação atual:\", equipe1.get_pontuacao())\n",
    "equipe1.set_pontuacao(30)\n",
    "print(\"Pontuação atualizada:\", equipe1.get_pontuacao())\n",
    "equipe1.set_pontuacao(-5)  # Teste de erro"
   ]
  },
  {
   "cell_type": "markdown",
   "id": "fb9df3e9",
   "metadata": {},
   "source": [
    "## PARTE 4 – Polimorfismo e Banco de Dados\n",
    "\n",
    "**Tarefas:**\n",
    "- Implementar polimorfismo: sobrescrever um método na subclasse.\n",
    "- Integrar o sistema com banco de dados (MySQL ou SQLite).\n",
    "- Implementar inserção (INSERT), consulta (SELECT) e exclusão (DELETE) de registros no banco de dados.\n",
    "\n",
    "**Código:**"
   ]
  },
  {
   "cell_type": "code",
   "execution_count": 4,
   "id": "56a4c46a",
   "metadata": {},
   "outputs": [],
   "source": [
    "# Desenvolva aqui o código da Parte 4"
   ]
  },
  {
   "cell_type": "markdown",
   "id": "d8bbf974",
   "metadata": {},
   "source": [
    "## PARTE 5 – Projeto Final e Organização\n",
    "\n",
    "**Tarefas:**\n",
    "- Consolidar todas as partes do projeto em um único script organizado.\n",
    "- Comentar o código explicando cada parte.\n",
    "- Testar todas as funcionalidades.\n",
    "\n",
    "**Código:**"
   ]
  },
  {
   "cell_type": "code",
   "execution_count": null,
   "id": "54b3cdd7",
   "metadata": {},
   "outputs": [],
   "source": [
    "# Desenvolva aqui o código da Parte 5"
   ]
  }
 ],
 "metadata": {
  "kernelspec": {
   "display_name": "Python 3 (ipykernel)",
   "language": "python",
   "name": "python3"
  },
  "language_info": {
   "codemirror_mode": {
    "name": "ipython",
    "version": 3
   },
   "file_extension": ".py",
   "mimetype": "text/x-python",
   "name": "python",
   "nbconvert_exporter": "python",
   "pygments_lexer": "ipython3",
   "version": "3.9.13"
  }
 },
 "nbformat": 4,
 "nbformat_minor": 5
}
